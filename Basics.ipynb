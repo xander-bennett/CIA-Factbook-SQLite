{
  "nbformat": 4,
  "nbformat_minor": 0,
  "metadata": {
    "kernelspec": {
      "display_name": "Python 3",
      "language": "python",
      "name": "python3"
    },
    "language_info": {
      "codemirror_mode": {
        "name": "ipython",
        "version": 3
      },
      "file_extension": ".py",
      "mimetype": "text/x-python",
      "name": "python",
      "nbconvert_exporter": "python",
      "pygments_lexer": "ipython3",
      "version": "3.6.1"
    },
    "colab": {
      "name": "Basics.ipynb",
      "provenance": []
    }
  },
  "cells": [
    {
      "cell_type": "markdown",
      "metadata": {
        "id": "bXpui4Toc8Uq",
        "colab_type": "text"
      },
      "source": [
        "# Introduction"
      ]
    },
    {
      "cell_type": "code",
      "metadata": {
        "id": "cDZc0ODcc-8T",
        "colab_type": "code",
        "colab": {}
      },
      "source": [
        "%%capture\n",
        "%load_ext sql\n",
        "%sql sqlite:///factbook.db"
      ],
      "execution_count": 0,
      "outputs": []
    },
    {
      "cell_type": "markdown",
      "metadata": {
        "id": "Ltd4LBDYdJ_W",
        "colab_type": "text"
      },
      "source": [
        "# Overview of the Data"
      ]
    },
    {
      "cell_type": "code",
      "metadata": {
        "id": "YXEO4sKzdLsk",
        "colab_type": "code",
        "colab": {
          "base_uri": "https://localhost:8080/",
          "height": 85
        },
        "outputId": "7f5d7073-4d4d-43a6-92aa-b28ec27ce9f1"
      },
      "source": [
        "%%sql\n",
        "SELECT * FROM facts limit 5;"
      ],
      "execution_count": 5,
      "outputs": [
        {
          "output_type": "stream",
          "text": [
            " * sqlite:///factbook.db\n",
            "(sqlite3.OperationalError) no such table: facts\n",
            "[SQL: SELECT * FROM facts limit 5;]\n",
            "(Background on this error at: http://sqlalche.me/e/e3q8)\n"
          ],
          "name": "stdout"
        }
      ]
    },
    {
      "cell_type": "markdown",
      "metadata": {
        "id": "6IrIE3yUeNfX",
        "colab_type": "text"
      },
      "source": [
        "# Summary Statistics"
      ]
    },
    {
      "cell_type": "code",
      "metadata": {
        "id": "AvB8KY2kdPUw",
        "colab_type": "code",
        "colab": {}
      },
      "source": [
        "%%sql\n",
        "SELECT\n",
        "    MIN(population) min_pop,\n",
        "    MAX(population) max_pop, \n",
        "    MIN(population_growth) min_pop_grwth,\n",
        "    MAX(population_growth) max_pop_grwth \n",
        "FROM facts;"
      ],
      "execution_count": 0,
      "outputs": []
    },
    {
      "cell_type": "markdown",
      "metadata": {
        "id": "ikqYi_O0eVba",
        "colab_type": "text"
      },
      "source": [
        "# Exploring Outliers"
      ]
    },
    {
      "cell_type": "code",
      "metadata": {
        "id": "mGhXp3WKeWqe",
        "colab_type": "code",
        "colab": {}
      },
      "source": [
        "%%sql\n",
        "SELECT * FROM facts\n",
        "WHERE population == (\n",
        "    SELECT MAX(population) FROM facts\n",
        ");"
      ],
      "execution_count": 0,
      "outputs": []
    }
  ]
}